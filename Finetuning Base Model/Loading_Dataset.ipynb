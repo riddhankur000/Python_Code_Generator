{
  "nbformat": 4,
  "nbformat_minor": 0,
  "metadata": {
    "colab": {
      "provenance": []
    },
    "kernelspec": {
      "name": "python3",
      "display_name": "Python 3"
    },
    "language_info": {
      "name": "python"
    }
  },
  "cells": [
    {
      "cell_type": "code",
      "execution_count": null,
      "metadata": {
        "id": "dVwcExUC-hDi",
        "colab": {
          "base_uri": "https://localhost:8080/"
        },
        "outputId": "89c72b14-6f02-49de-b2a0-ef9c8ac4c432"
      },
      "outputs": [
        {
          "output_type": "stream",
          "name": "stdout",
          "text": [
            "\n",
            "    _|    _|  _|    _|    _|_|_|    _|_|_|  _|_|_|  _|      _|    _|_|_|      _|_|_|_|    _|_|      _|_|_|  _|_|_|_|\n",
            "    _|    _|  _|    _|  _|        _|          _|    _|_|    _|  _|            _|        _|    _|  _|        _|\n",
            "    _|_|_|_|  _|    _|  _|  _|_|  _|  _|_|    _|    _|  _|  _|  _|  _|_|      _|_|_|    _|_|_|_|  _|        _|_|_|\n",
            "    _|    _|  _|    _|  _|    _|  _|    _|    _|    _|    _|_|  _|    _|      _|        _|    _|  _|        _|\n",
            "    _|    _|    _|_|      _|_|_|    _|_|_|  _|_|_|  _|      _|    _|_|_|      _|        _|    _|    _|_|_|  _|_|_|_|\n",
            "\n",
            "    A token is already saved on your machine. Run `huggingface-cli whoami` to get more information or `huggingface-cli logout` if you want to log out.\n",
            "    Setting a new token will erase the existing one.\n",
            "    To login, `huggingface_hub` requires a token generated from https://huggingface.co/settings/tokens .\n",
            "Enter your token (input will not be visible): \n",
            "Add token as git credential? (Y/n) n\n",
            "Traceback (most recent call last):\n",
            "  File \"/usr/local/bin/huggingface-cli\", line 8, in <module>\n",
            "    sys.exit(main())\n",
            "  File \"/usr/local/lib/python3.10/dist-packages/huggingface_hub/commands/huggingface_cli.py\", line 51, in main\n",
            "    service.run()\n",
            "  File \"/usr/local/lib/python3.10/dist-packages/huggingface_hub/commands/user.py\", line 98, in run\n",
            "    login(token=self.args.token, add_to_git_credential=self.args.add_to_git_credential)\n",
            "  File \"/usr/local/lib/python3.10/dist-packages/huggingface_hub/_login.py\", line 115, in login\n",
            "    interpreter_login(new_session=new_session, write_permission=write_permission)\n",
            "  File \"/usr/local/lib/python3.10/dist-packages/huggingface_hub/_login.py\", line 194, in interpreter_login\n",
            "    _login(token=token, add_to_git_credential=add_to_git_credential, write_permission=write_permission)\n",
            "  File \"/usr/local/lib/python3.10/dist-packages/huggingface_hub/_login.py\", line 307, in _login\n",
            "    raise ValueError(\"Invalid token passed!\")\n",
            "ValueError: Invalid token passed!\n"
          ]
        }
      ],
      "source": [
        "!pip install -q datasets\n",
        "!huggingface-cli login"
      ]
    },
    {
      "cell_type": "markdown",
      "source": [
        "# Loading The Dataset from Hugging-Face"
      ],
      "metadata": {
        "id": "IqajBwv0rjGo"
      }
    },
    {
      "cell_type": "markdown",
      "source": [
        "Downloaded The Dataset from Hugging Face.\n",
        "\n",
        "Dataset Repository : \"iamtarun/python_code_instructions_18k_alpaca\"\n",
        "\n",
        "Converted the dataset from \".paraquet\" to \".csv\" extension"
      ],
      "metadata": {
        "id": "_M0WTJ_Fra4Y"
      }
    },
    {
      "cell_type": "code",
      "source": [
        "\n",
        "\n",
        "import pandas as pd\n",
        "# Specify the path to your Parquet file\n",
        "file_path = '/content/train-00000-of-00001-8b6e212f3e1ece96.parquet'\n",
        "\n",
        "# Read the Parquet file\n",
        "df = pd.read_parquet(file_path)\n",
        "\n",
        "# Print the dataframe\n",
        "print(df)\n",
        "# print(dataset)"
      ],
      "metadata": {
        "colab": {
          "base_uri": "https://localhost:8080/"
        },
        "id": "ILJTE7fRbIIn",
        "outputId": "034d9f97-3f57-4286-bf64-925380ecc47a"
      },
      "execution_count": null,
      "outputs": [
        {
          "output_type": "stream",
          "name": "stdout",
          "text": [
            "                                             instruction  \\\n",
            "0      Create a function to calculate the sum of a se...   \n",
            "1      Generate a Python code for crawling a website ...   \n",
            "2      Create a Python list comprehension to get the ...   \n",
            "3       Generate a python script to perform this action.   \n",
            "4      Write a python script to generates random numb...   \n",
            "...                                                  ...   \n",
            "18607  Generate a loop in Python which iterates throu...   \n",
            "18608  Can you design a function in Python to sort a ...   \n",
            "18609  Generate a Python function to search an array ...   \n",
            "18610  Develop an HTTP API in Python to retrieve the ...   \n",
            "18611  Create a classification algorithm in Python to...   \n",
            "\n",
            "                                                   input  \\\n",
            "0                                        [1, 2, 3, 4, 5]   \n",
            "1      website: www.example.com \\ndata to crawl: phon...   \n",
            "2                                                          \n",
            "3      Given a string, remove all the consecutive dup...   \n",
            "4                                                          \n",
            "...                                                  ...   \n",
            "18607                                                      \n",
            "18608           tuples = [(\"b\", 0), (\"a\", 1), (\"c\", -1)]   \n",
            "18609            Array = [1, 5, 10, 15, 20], Target = 15   \n",
            "18610                                                      \n",
            "18611                                                      \n",
            "\n",
            "                                                  output  \\\n",
            "0      # Python code\\ndef sum_sequence(sequence):\\n  ...   \n",
            "1      import requests\\nimport re\\n\\ndef crawl_websit...   \n",
            "2                     [x*x for x in [1, 2, 3, 5, 8, 13]]   \n",
            "3      def remove_duplicates(string): \\n    result = ...   \n",
            "4      def generate_random_divisible_number():\\n    i...   \n",
            "...                                                  ...   \n",
            "18607     for value in list_of_values:\\n    print(value)   \n",
            "18608  def sort_tuple(tuples):\\n    # sort by 2nd ite...   \n",
            "18609  def search(array, target):\\n # Iterate over ar...   \n",
            "18610  import requests\\nfrom bs4 import BeautifulSoup...   \n",
            "18611  # Import Python libraries\\nimport numpy as np\\...   \n",
            "\n",
            "                                                  prompt  \n",
            "0      Below is an instruction that describes a task....  \n",
            "1      Below is an instruction that describes a task....  \n",
            "2      Below is an instruction that describes a task....  \n",
            "3      Below is an instruction that describes a task....  \n",
            "4      Below is an instruction that describes a task....  \n",
            "...                                                  ...  \n",
            "18607  Below is an instruction that describes a task....  \n",
            "18608  Below is an instruction that describes a task....  \n",
            "18609  Below is an instruction that describes a task....  \n",
            "18610  Below is an instruction that describes a task....  \n",
            "18611  Below is an instruction that describes a task....  \n",
            "\n",
            "[18612 rows x 4 columns]\n"
          ]
        }
      ]
    },
    {
      "cell_type": "code",
      "source": [
        "df.to_csv(\"dataset.csv\")"
      ],
      "metadata": {
        "id": "5hYs4sce3Hky"
      },
      "execution_count": null,
      "outputs": []
    }
  ]
}