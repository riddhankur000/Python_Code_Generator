{
  "nbformat": 4,
  "nbformat_minor": 0,
  "metadata": {
    "colab": {
      "provenance": []
    },
    "kernelspec": {
      "name": "python3",
      "display_name": "Python 3"
    },
    "language_info": {
      "name": "python"
    }
  },
  "cells": [
    {
      "cell_type": "code",
      "execution_count": null,
      "metadata": {
        "colab": {
          "base_uri": "https://localhost:8080/"
        },
        "collapsed": true,
        "id": "T9JWgm3YlDo_",
        "outputId": "cf24c4bf-c092-4780-e4d7-8da62f3e2445"
      },
      "outputs": [
        {
          "output_type": "stream",
          "name": "stdout",
          "text": [
            "Collecting gradio-client==1.0.1\n",
            "  Downloading gradio_client-1.0.1-py3-none-any.whl (318 kB)\n",
            "\u001b[2K     \u001b[90m━━━━━━━━━━━━━━━━━━━━━━━━━━━━━━━━━━━━━━━━\u001b[0m \u001b[32m318.1/318.1 kB\u001b[0m \u001b[31m2.2 MB/s\u001b[0m eta \u001b[36m0:00:00\u001b[0m\n",
            "\u001b[?25hRequirement already satisfied: fsspec in /usr/local/lib/python3.10/dist-packages (from gradio-client==1.0.1) (2023.6.0)\n",
            "Collecting httpx>=0.24.1 (from gradio-client==1.0.1)\n",
            "  Downloading httpx-0.27.0-py3-none-any.whl (75 kB)\n",
            "\u001b[2K     \u001b[90m━━━━━━━━━━━━━━━━━━━━━━━━━━━━━━━━━━━━━━━━\u001b[0m \u001b[32m75.6/75.6 kB\u001b[0m \u001b[31m7.3 MB/s\u001b[0m eta \u001b[36m0:00:00\u001b[0m\n",
            "\u001b[?25hRequirement already satisfied: huggingface-hub>=0.19.3 in /usr/local/lib/python3.10/dist-packages (from gradio-client==1.0.1) (0.23.4)\n",
            "Requirement already satisfied: packaging in /usr/local/lib/python3.10/dist-packages (from gradio-client==1.0.1) (24.1)\n",
            "Requirement already satisfied: typing-extensions~=4.0 in /usr/local/lib/python3.10/dist-packages (from gradio-client==1.0.1) (4.12.2)\n",
            "Collecting websockets<12.0,>=10.0 (from gradio-client==1.0.1)\n",
            "  Downloading websockets-11.0.3-cp310-cp310-manylinux_2_5_x86_64.manylinux1_x86_64.manylinux_2_17_x86_64.manylinux2014_x86_64.whl (129 kB)\n",
            "\u001b[2K     \u001b[90m━━━━━━━━━━━━━━━━━━━━━━━━━━━━━━━━━━━━━━━━\u001b[0m \u001b[32m129.9/129.9 kB\u001b[0m \u001b[31m8.8 MB/s\u001b[0m eta \u001b[36m0:00:00\u001b[0m\n",
            "\u001b[?25hRequirement already satisfied: anyio in /usr/local/lib/python3.10/dist-packages (from httpx>=0.24.1->gradio-client==1.0.1) (3.7.1)\n",
            "Requirement already satisfied: certifi in /usr/local/lib/python3.10/dist-packages (from httpx>=0.24.1->gradio-client==1.0.1) (2024.7.4)\n",
            "Collecting httpcore==1.* (from httpx>=0.24.1->gradio-client==1.0.1)\n",
            "  Downloading httpcore-1.0.5-py3-none-any.whl (77 kB)\n",
            "\u001b[2K     \u001b[90m━━━━━━━━━━━━━━━━━━━━━━━━━━━━━━━━━━━━━━━━\u001b[0m \u001b[32m77.9/77.9 kB\u001b[0m \u001b[31m1.8 MB/s\u001b[0m eta \u001b[36m0:00:00\u001b[0m\n",
            "\u001b[?25hRequirement already satisfied: idna in /usr/local/lib/python3.10/dist-packages (from httpx>=0.24.1->gradio-client==1.0.1) (3.7)\n",
            "Requirement already satisfied: sniffio in /usr/local/lib/python3.10/dist-packages (from httpx>=0.24.1->gradio-client==1.0.1) (1.3.1)\n",
            "Collecting h11<0.15,>=0.13 (from httpcore==1.*->httpx>=0.24.1->gradio-client==1.0.1)\n",
            "  Downloading h11-0.14.0-py3-none-any.whl (58 kB)\n",
            "\u001b[2K     \u001b[90m━━━━━━━━━━━━━━━━━━━━━━━━━━━━━━━━━━━━━━━━\u001b[0m \u001b[32m58.3/58.3 kB\u001b[0m \u001b[31m4.8 MB/s\u001b[0m eta \u001b[36m0:00:00\u001b[0m\n",
            "\u001b[?25hRequirement already satisfied: filelock in /usr/local/lib/python3.10/dist-packages (from huggingface-hub>=0.19.3->gradio-client==1.0.1) (3.15.4)\n",
            "Requirement already satisfied: pyyaml>=5.1 in /usr/local/lib/python3.10/dist-packages (from huggingface-hub>=0.19.3->gradio-client==1.0.1) (6.0.1)\n",
            "Requirement already satisfied: requests in /usr/local/lib/python3.10/dist-packages (from huggingface-hub>=0.19.3->gradio-client==1.0.1) (2.31.0)\n",
            "Requirement already satisfied: tqdm>=4.42.1 in /usr/local/lib/python3.10/dist-packages (from huggingface-hub>=0.19.3->gradio-client==1.0.1) (4.66.4)\n",
            "Requirement already satisfied: exceptiongroup in /usr/local/lib/python3.10/dist-packages (from anyio->httpx>=0.24.1->gradio-client==1.0.1) (1.2.2)\n",
            "Requirement already satisfied: charset-normalizer<4,>=2 in /usr/local/lib/python3.10/dist-packages (from requests->huggingface-hub>=0.19.3->gradio-client==1.0.1) (3.3.2)\n",
            "Requirement already satisfied: urllib3<3,>=1.21.1 in /usr/local/lib/python3.10/dist-packages (from requests->huggingface-hub>=0.19.3->gradio-client==1.0.1) (2.0.7)\n",
            "Installing collected packages: websockets, h11, httpcore, httpx, gradio-client\n",
            "Successfully installed gradio-client-1.0.1 h11-0.14.0 httpcore-1.0.5 httpx-0.27.0 websockets-11.0.3\n"
          ]
        }
      ],
      "source": [
        "!pip install gradio-client==1.0.1"
      ]
    },
    {
      "cell_type": "code",
      "source": [
        "import json\n",
        "from gradio_client import Client"
      ],
      "metadata": {
        "id": "99pcSS0fruhz"
      },
      "execution_count": null,
      "outputs": []
    },
    {
      "cell_type": "code",
      "source": [
        "url = \"deployed_running_gradio_url\""
      ],
      "metadata": {
        "id": "jhC_LVIKr2nX"
      },
      "execution_count": null,
      "outputs": []
    },
    {
      "cell_type": "code",
      "source": [
        "def build_llama2_prompt(messages):\n",
        "  start_prompt = '<s>[INST] '\n",
        "  end_prompt = ' [/INST]'\n",
        "  conversation=[]\n",
        "  for index,message in enumerate(messages):\n",
        "    if message[\"role\"]==\"system\" and index==0:\n",
        "      conversation.append(f\"<<SYS>>\\n{message['content']}\\n<</SYS>>\\n\")\n",
        "    elif message[\"role\"]==\"user\":\n",
        "      conversation.append(f\"{message['content']}\")\n",
        "    else:\n",
        "      conversation.append(f\"{message['content']}</s>\")\n",
        "  prompt=start_prompt+\"\".join(conversation)+end_prompt\n",
        "  return prompt\n"
      ],
      "metadata": {
        "id": "O1POdfcRHq7k"
      },
      "execution_count": null,
      "outputs": []
    },
    {
      "cell_type": "code",
      "source": [
        "messages=[{\"role\":\"system\",\"content\":\"Write a Pyhton code for Binary Search Algorithm\"}]\n",
        "instruction=\"Consider the array [2,6,8,1,3,9] and find the number8\"\n",
        "messages.append({\"role\":\"user\",\"content\":instruction})\n",
        "input_text=build_llama2_prompt(messages)\n",
        "print(input_text)\n"
      ],
      "metadata": {
        "colab": {
          "base_uri": "https://localhost:8080/"
        },
        "id": "Hlg67ik5HuY0",
        "outputId": "c4730629-fe75-4e97-a0e5-5be27aa5c809"
      },
      "execution_count": null,
      "outputs": [
        {
          "output_type": "stream",
          "name": "stdout",
          "text": [
            "<s>[INST] <<SYS>>\n",
            "Write a Pyhton code for Binary Search Algorithm\n",
            "<</SYS>>\n",
            "Consider the array [2,6,8,1,3,9] and find the number8 [/INST]\n"
          ]
        }
      ]
    },
    {
      "cell_type": "code",
      "source": [
        "input_data = {\"query\": input_text}\n",
        "\n",
        "input_data_json= json.dumps(input_data)\n",
        "print(input_data_json)"
      ],
      "metadata": {
        "id": "EL_lcGF_r8eF",
        "colab": {
          "base_uri": "https://localhost:8080/"
        },
        "outputId": "779d506d-cb1f-4fcf-a92a-13094390a014"
      },
      "execution_count": null,
      "outputs": [
        {
          "output_type": "stream",
          "name": "stdout",
          "text": [
            "{\"query\": \"<s>[INST] <<SYS>>\\nWrite a Pyhton code for Binary Search Algorithm\\n<</SYS>>\\nConsider the array [2,6,8,1,3,9] and find the number8 [/INST]\"}\n"
          ]
        }
      ]
    },
    {
      "cell_type": "code",
      "source": [
        "client = Client(url)"
      ],
      "metadata": {
        "colab": {
          "base_uri": "https://localhost:8080/"
        },
        "id": "4nKl64pqsH7o",
        "outputId": "b558e28b-8a37-47dd-be38-01829ec36706"
      },
      "execution_count": null,
      "outputs": [
        {
          "output_type": "stream",
          "name": "stderr",
          "text": [
            "/usr/local/lib/python3.10/dist-packages/huggingface_hub/utils/_token.py:89: UserWarning: \n",
            "The secret `HF_TOKEN` does not exist in your Colab secrets.\n",
            "To authenticate with the Hugging Face Hub, create a token in your settings tab (https://huggingface.co/settings/tokens), set it as secret in your Google Colab and restart your session.\n",
            "You will be able to reuse this secret in all of your notebooks.\n",
            "Please note that authentication is recommended but still optional to access public models or datasets.\n",
            "  warnings.warn(\n"
          ]
        },
        {
          "output_type": "stream",
          "name": "stdout",
          "text": [
            "Loaded as API: https://6bd6bb1ac9d8a43c5a.gradio.live/ ✔\n"
          ]
        }
      ]
    },
    {
      "cell_type": "code",
      "source": [
        "result = client.predict(input_data_json, api_name=\"/predict\")"
      ],
      "metadata": {
        "id": "OEcaYEDOsMGI"
      },
      "execution_count": null,
      "outputs": []
    },
    {
      "cell_type": "code",
      "source": [
        "print(result['output'])"
      ],
      "metadata": {
        "colab": {
          "base_uri": "https://localhost:8080/"
        },
        "id": "p3CpYFWZsTJo",
        "outputId": "1a013996-f9d8-437b-e016-caece0c7ae81"
      },
      "execution_count": null,
      "outputs": [
        {
          "output_type": "stream",
          "name": "stdout",
          "text": [
            "[INST] <<SYS>>\n",
            "Write a Pyhton code for Binary Search Algorithm\n",
            "<</SYS>>\n",
            "Consider the array [2,6,8,1,3,9] and find the number8 [/INST]  Sure! Here is an example of how you can implement the binary search algorithm in Python:\n",
            "```\n",
            "def binary_search(arr, target):\n",
            "    \"\"\"\n",
            "    Performs a binary search on the given array.\n",
            "\n",
            "    Parameters:\n",
            "    - arr (list): The array to perform the search on.\n",
            "    - target (int): The number to search for.\n",
            "\n",
            "    Returns:\n",
            "    - index (int): The index of the number in the array, or -1 if it is not found.\n",
            "    \"\"\"\n",
            "    # Initialize the lower and upper indices of the array\n",
            "    lower = 0\n",
            "    upper = len(arr) - 1\n",
            "\n",
            "    # Find the middle index of the array\n",
            "    while lower < upper:\n",
            "        # Calculate the middle index\n",
            "        mid = (lower + upper) // 2\n",
            "\n",
            "        # Compare the number in the middle index to the target\n",
            "        if arr[mid] == target:\n",
            "            # Return the index of the number\n",
            "            return mid\n",
            "\n",
            "        # If the number in the middle index is less than the target, move to the\n",
            "        # left side of the array. Otherwise, move to the right side.\n",
            "        if arr[mid] < target:\n",
            "            upper = mid - 1\n",
            "        else:\n",
            "            lower = mid + 1\n",
            "\n",
            "    # If the target is not found in the array, return -1\n",
            "    return -1\n",
            "\n",
            "# Test the binary search function\n",
            "arr = [2, 6, 8, 1, 3, 9]\n",
            "result = binary_search(arr, 8)\n",
            "print(result)\n",
            "```\n",
            "This code defines a `binary_search` function that takes an array and a target number as input, and returns the index of the target number in the array, or -1 if it is not found. The function performs a binary search on the array by iteratively dividing the array in half and searching for the target number in the appropriate half until it is found or the array is empty.\n",
            "\n",
            "To use the function, simply call it with the array and the number you want to search for as arguments, like this:\n",
            "```\n",
            "result = binary_search(arr, 8)\n",
            "```\n",
            "The function will return the index of the number 8 in the array `arr`, or -1 if it is not found.\n",
            "\n",
            "I hope this helps\n"
          ]
        }
      ]
    },
    {
      "cell_type": "code",
      "source": [
        "type(result)"
      ],
      "metadata": {
        "id": "tuY1elKksWA7",
        "outputId": "3d0209a0-f00a-4074-c39c-218e3bcd5a21",
        "colab": {
          "base_uri": "https://localhost:8080/"
        }
      },
      "execution_count": null,
      "outputs": [
        {
          "output_type": "execute_result",
          "data": {
            "text/plain": [
              "dict"
            ]
          },
          "metadata": {},
          "execution_count": 17
        }
      ]
    },
    {
      "cell_type": "code",
      "source": [
        "print(result[\"output\"])"
      ],
      "metadata": {
        "id": "kTs7cA_WsYcY",
        "outputId": "2bfc4210-0eb6-436c-aae2-f1a8b6cb7be0",
        "colab": {
          "base_uri": "https://localhost:8080/"
        }
      },
      "execution_count": null,
      "outputs": [
        {
          "output_type": "stream",
          "name": "stdout",
          "text": [
            "[INST] <<SYS>>\n",
            "Write a Pyhton code for Binary Search Algorithm\n",
            "<</SYS>>\n",
            "Consider the array [2,6,8,1,3,9] and find the number8 [/INST]  Sure! Here is an example of how you can implement the binary search algorithm in Python:\n",
            "```\n",
            "def binary_search(arr, target):\n",
            "    \"\"\"\n",
            "    Performs a binary search on the given array.\n",
            "\n",
            "    Parameters:\n",
            "    - arr (list): The array to perform the search on.\n",
            "    - target (int): The number to search for.\n",
            "\n",
            "    Returns:\n",
            "    - index (int): The index of the number in the array, or -1 if it is not found.\n",
            "    \"\"\"\n",
            "    # Initialize the lower and upper indices of the array\n",
            "    lower = 0\n",
            "    upper = len(arr) - 1\n",
            "\n",
            "    # Find the middle index of the array\n",
            "    while lower < upper:\n",
            "        # Calculate the middle index\n",
            "        mid = (lower + upper) // 2\n",
            "\n",
            "        # Compare the number in the middle index to the target\n",
            "        if arr[mid] == target:\n",
            "            # Return the index of the number\n",
            "            return mid\n",
            "\n",
            "        # If the number in the middle index is less than the target, move to the\n",
            "        # left side of the array. Otherwise, move to the right side.\n",
            "        if arr[mid] < target:\n",
            "            upper = mid - 1\n",
            "        else:\n",
            "            lower = mid + 1\n",
            "\n",
            "    # If the target is not found in the array, return -1\n",
            "    return -1\n",
            "\n",
            "# Test the binary search function\n",
            "arr = [2, 6, 8, 1, 3, 9]\n",
            "result = binary_search(arr, 8)\n",
            "print(result)\n",
            "```\n",
            "This code defines a `binary_search` function that takes an array and a target number as input, and returns the index of the target number in the array, or -1 if it is not found. The function performs a binary search on the array by iteratively dividing the array in half and searching for the target number in the appropriate half until it is found or the array is empty.\n",
            "\n",
            "To use the function, simply call it with the array and the number you want to search for as arguments, like this:\n",
            "```\n",
            "result = binary_search(arr, 8)\n",
            "```\n",
            "The function will return the index of the number 8 in the array `arr`, or -1 if it is not found.\n",
            "\n",
            "I hope this helps\n"
          ]
        }
      ]
    },
    {
      "cell_type": "code",
      "source": [],
      "metadata": {
        "id": "Cd14v1fAsclf"
      },
      "execution_count": null,
      "outputs": []
    }
  ]
}